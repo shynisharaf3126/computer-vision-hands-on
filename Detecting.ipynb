{
  "cells": [
    {
      "cell_type": "markdown",
      "metadata": {
        "id": "view-in-github",
        "colab_type": "text"
      },
      "source": [
        "<a href=\"https://colab.research.google.com/github/shynisharaf3126/computer-vision-hands-on/blob/main/Detecting.ipynb\" target=\"_parent\"><img src=\"https://colab.research.google.com/assets/colab-badge.svg\" alt=\"Open In Colab\"/></a>"
      ]
    },
    {
      "cell_type": "code",
      "execution_count": null,
      "metadata": {
        "id": "gZ85qod5n6aC"
      },
      "outputs": [],
      "source": [
        "import numpy as np\n",
        "import joblib\n",
        "from skimage.feature import hog\n",
        "from skimage import color\n",
        "from skimage.transform import pyramid_gaussian\n",
        "from imutils.object_detection import non_max_suppression\n",
        "from scipy.special import expit\n",
        "import cv2"
      ]
    },
    {
      "cell_type": "code",
      "execution_count": null,
      "metadata": {
        "id": "S5TqEjcRn6aH"
      },
      "outputs": [],
      "source": [
        "model = joblib.load('svm_model.npy')\n",
        "\n",
        "orientations = 9\n",
        "pixels_per_cell = (8, 8)\n",
        "cells_per_block = (2, 2)\n",
        "\n",
        "scale = 0\n",
        "detections = []\n",
        "img = cv2.imread('C:\\\\Users\\\\admin\\\\JupyterNotebook_works\\\\mtech-programing-labs\\\\S2\\\\Computer-vision\\\\Project\\\\detection\\\\inputs\\\\1\\\\313.png')\n",
        "\n",
        "img = cv2.resize(img,(300,200))\n",
        "\n",
        "(winW, winH) = (64,128)  # size of the sliding window\n",
        "windowSize = (winW,winH)\n",
        "downscale = 1.5"
      ]
    },
    {
      "cell_type": "code",
      "execution_count": null,
      "metadata": {
        "id": "1P7v-yeBn6aI"
      },
      "outputs": [],
      "source": [
        "def sliding_window(image, stepSize, windowSize):\n",
        "    for y in range(0, image.shape[0], stepSize):\n",
        "        for x in range(0, image.shape[1], stepSize):\n",
        "            yield (x, y, image[y: y + windowSize[1], x:x + windowSize[0]])"
      ]
    },
    {
      "cell_type": "code",
      "execution_count": null,
      "metadata": {
        "id": "n3m6O4o5n6aJ",
        "outputId": "d3aec051-f707-4abe-ad1f-3948a689be49"
      },
      "outputs": [
        {
          "name": "stdout",
          "output_type": "stream",
          "text": [
            "Detection:: Location -> (70, 20)\n",
            "Scale ->  0 | Confidence Score [1.54646229] \n",
            "\n",
            "Detection:: Location -> (130, 30)\n",
            "Scale ->  0 | Confidence Score [1.55580004] \n",
            "\n",
            "Detection:: Location -> (110, 40)\n",
            "Scale ->  0 | Confidence Score [1.50387263] \n",
            "\n",
            "Detection:: Location -> (130, 40)\n",
            "Scale ->  0 | Confidence Score [1.73159911] \n",
            "\n",
            "Detection:: Location -> (0, 50)\n",
            "Scale ->  0 | Confidence Score [1.62724782] \n",
            "\n"
          ]
        }
      ],
      "source": [
        "for resized in pyramid_gaussian(img, downscale=downscale): # loop over each layer of the image that you take\n",
        "    # loop over the sliding window for each layer of the pyramid\n",
        "    for (x,y,window_) in sliding_window(resized, stepSize=10, windowSize=(winW,winH)):\n",
        "        # if the window does not meet our desired window size, ignore it!\n",
        "        if window_.shape[0] != winH or window_.shape[1] !=winW or window_.shape[2]!=3: # ensure the sliding window has met the minimum size requirement\n",
        "            continue\n",
        "        window = color.rgb2gray(window_)\n",
        "        #window = cv2.cvtColor(window_, cv2.COLOR_BGR2GRAY) #.rgb2gray(window_[:,:,:3])\n",
        "        fds = hog(window, orientations, pixels_per_cell, cells_per_block, block_norm='L2')  # extract HOG features from the window captured\n",
        "        fds = fds.reshape(1, -1) # re shape the image to make a silouhette of hog\n",
        "        pred = model.predict(fds) # use the SVM model to make a prediction on the HOG features extracted from the window\n",
        "        \n",
        "        if pred == 1:\n",
        "            if model.decision_function(fds) > 1.5:  # set a threshold value for the SVM prediction i.e. only firm the predictions above probability of 0.6\n",
        "                print(\"Detection:: Location -> ({}, {})\".format(x, y))\n",
        "                print(\"Scale ->  {} | Confidence Score {} \\n\".format(scale,model.decision_function(fds)))\n",
        "                detections.append((int(x * (downscale**scale)), int(y * (downscale**scale)), model.decision_function(fds),\n",
        "                                   int(windowSize[0]*(downscale**scale)), # create a list of all the predictions found\n",
        "                                      int(windowSize[1]*(downscale**scale))))\n",
        "    scale+=1"
      ]
    },
    {
      "cell_type": "code",
      "execution_count": null,
      "metadata": {
        "collapsed": true,
        "id": "wNWujbc8n6aO",
        "outputId": "25233854-5862-4705-dad5-0f1a6156ea61"
      },
      "outputs": [
        {
          "name": "stdout",
          "output_type": "stream",
          "text": [
            "[[ 70  20 134 148]\n",
            " [130  30 194 158]\n",
            " [110  40 174 168]\n",
            " [130  40 194 168]\n",
            " [  0  50  64 178]]\n"
          ]
        }
      ],
      "source": [
        "'''\n",
        "rects = []\n",
        "scores = []\n",
        "for (x, y, dec_func, w, h) in detections:\n",
        "    rects.append([x, y, x + w, y + h])\n",
        "    score = expit(dec_func)\n",
        "    scores.append(score)\n",
        "rects = np.array(rects)\n",
        "scores = np.array(scores)\n",
        "print(rects)\n",
        "pick = non_max_suppression(rects, probs=scores, overlapThresh=0.3)\n",
        "'''"
      ]
    },
    {
      "cell_type": "code",
      "execution_count": null,
      "metadata": {
        "id": "6pJv_QW9n6aS",
        "outputId": "aa1ac38c-b01a-4b0f-85d4-c71983c0ea1d"
      },
      "outputs": [
        {
          "data": {
            "text/plain": [
              "array([[ 70,  20, 134, 148]])"
            ]
          },
          "execution_count": 35,
          "metadata": {},
          "output_type": "execute_result"
        }
      ],
      "source": [
        "pick"
      ]
    },
    {
      "cell_type": "code",
      "execution_count": null,
      "metadata": {
        "id": "VCkV-xmGn6aT",
        "outputId": "b169e568-c837-4481-a66f-4f8c7159117b"
      },
      "outputs": [
        {
          "name": "stdout",
          "output_type": "stream",
          "text": [
            "detection confidence score:  [1.5464622850414484, 1.5558000424677132, 1.5038726275539658, 1.7315991083751636, 1.6272478214932675]\n"
          ]
        }
      ],
      "source": [
        "rects = np.array([[x, y, x + w, y + h] for (x, y, _, w, h) in detections]) # do nms on the detected bounding boxes\n",
        "sc = [score[0] for (x, y, score, w, h) in detections]\n",
        "print(\"detection confidence score: \", sc)\n",
        "sc = np.array(sc)\n",
        "pick = non_max_suppression(rects, probs = sc, overlapThresh=0.3)"
      ]
    },
    {
      "cell_type": "code",
      "execution_count": null,
      "metadata": {
        "id": "GE9VT1Lgn6aV",
        "outputId": "0054bca3-ab54-4a24-c70c-741469d654d8"
      },
      "outputs": [
        {
          "data": {
            "text/plain": [
              "array([[130,  40, 194, 168],\n",
              "       [  0,  50,  64, 178],\n",
              "       [ 70,  20, 134, 148]])"
            ]
          },
          "execution_count": 33,
          "metadata": {},
          "output_type": "execute_result"
        }
      ],
      "source": [
        "pick"
      ]
    },
    {
      "cell_type": "code",
      "execution_count": null,
      "metadata": {
        "id": "V0I2Jzhzn6aW",
        "outputId": "3b9737b9-a8e3-47f1-bf32-be336457db3a"
      },
      "outputs": [
        {
          "data": {
            "text/plain": [
              "\"\\nfor (xA, yA, xB, yB) in pick:\\n    for (xA_, yA_, xB_, yB_), score in zip(rects, sc):\\n        if (xA, yA, xB, yB) == rect:\\n            print(score)\\n    #cv2.rectangle(img, (xA, yA), (xB, yB), (0,255,0), 2)\\n    #cv2.putText(img,'Human',(xA-2,yA-2),1,0.75,(255,255,0),1)\\n\""
            ]
          },
          "execution_count": 40,
          "metadata": {},
          "output_type": "execute_result"
        }
      ],
      "source": [
        "'''\n",
        "for (xA, yA, xB, yB) in pick:\n",
        "    for (xA_, yA_, xB_, yB_), score in zip(rects, sc):\n",
        "        if (xA, yA, xB, yB) == rect:\n",
        "            print(score)\n",
        "    #cv2.rectangle(img, (xA, yA), (xB, yB), (0,255,0), 2)\n",
        "    #cv2.putText(img,'Human',(xA-2,yA-2),1,0.75,(255,255,0),1)\n",
        "'''"
      ]
    },
    {
      "cell_type": "code",
      "execution_count": null,
      "metadata": {
        "id": "T7vQxiQRn6aX"
      },
      "outputs": [],
      "source": [
        "for (xA, yA, xB, yB) in pick:\n",
        "    cv2.rectangle(img, (xA, yA), (xB, yB), (0,255,0), 2)\n",
        "    cv2.putText(img,'Human',(xA-2,yA-2),1,0.75,(255,255,0),1)"
      ]
    },
    {
      "cell_type": "code",
      "execution_count": null,
      "metadata": {
        "id": "xucyNSJWn6aY"
      },
      "outputs": [],
      "source": [
        "cv2.imshow('Detection', img)\n",
        "cv2.waitKey()\n",
        "cv2.destroyAllWindows()"
      ]
    },
    {
      "cell_type": "code",
      "execution_count": null,
      "metadata": {
        "id": "ixPz_0Bdn6aY"
      },
      "outputs": [],
      "source": [
        "# video\n",
        "\n",
        "video = cv2.VideoCapture(0)\n",
        "while True: \n",
        "    check, frame = video.read()\n",
        "\n",
        "video.release()\n",
        "cv2.destroyAllWindows() "
      ]
    }
  ],
  "metadata": {
    "kernelspec": {
      "display_name": "Python 3",
      "language": "python",
      "name": "python3"
    },
    "language_info": {
      "codemirror_mode": {
        "name": "ipython",
        "version": 3
      },
      "file_extension": ".py",
      "mimetype": "text/x-python",
      "name": "python",
      "nbconvert_exporter": "python",
      "pygments_lexer": "ipython3",
      "version": "3.7.7"
    },
    "colab": {
      "provenance": [],
      "include_colab_link": true
    }
  },
  "nbformat": 4,
  "nbformat_minor": 0
}